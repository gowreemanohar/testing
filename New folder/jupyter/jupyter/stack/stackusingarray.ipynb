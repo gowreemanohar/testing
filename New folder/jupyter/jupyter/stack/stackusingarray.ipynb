{
 "cells": [
  {
   "cell_type": "code",
   "execution_count": 14,
   "id": "european-opposition",
   "metadata": {},
   "outputs": [],
   "source": [
    "def createstack():\n",
    "    stack=[]\n",
    "    return stack\n",
    "def isempty(stack):\n",
    "    return len(stack)==0"
   ]
  },
  {
   "cell_type": "code",
   "execution_count": 18,
   "id": "compressed-authorization",
   "metadata": {},
   "outputs": [],
   "source": [
    "def push(stack,key):\n",
    "    stack.append(key)\n",
    "    print(stack ,'pushed to stack')\n"
   ]
  },
  {
   "cell_type": "code",
   "execution_count": 19,
   "id": "silver-malawi",
   "metadata": {},
   "outputs": [],
   "source": [
    "def pop(stack):\n",
    "    if isempty(stack):\n",
    "        return 'infinity'\n",
    "    return stack.pop()"
   ]
  },
  {
   "cell_type": "code",
   "execution_count": 21,
   "id": "wooden-polish",
   "metadata": {},
   "outputs": [
    {
     "name": "stdout",
     "output_type": "stream",
     "text": [
      "['1'] pushed to stack\n",
      "['1', 2] pushed to stack\n",
      "['1', 2, 3] pushed to stack\n",
      "3\n",
      "n\n"
     ]
    }
   ],
   "source": [
    "stack=createstack()\n",
    "push(stack,str(1))\n",
    "push(stack,2)\n",
    "push(stack,3)\n",
    "print(pop(stack))\n",
    "print('n')"
   ]
  },
  {
   "cell_type": "code",
   "execution_count": null,
   "id": "challenging-rendering",
   "metadata": {},
   "outputs": [],
   "source": []
  },
  {
   "cell_type": "code",
   "execution_count": null,
   "id": "atomic-serial",
   "metadata": {},
   "outputs": [],
   "source": []
  },
  {
   "cell_type": "code",
   "execution_count": null,
   "id": "determined-consequence",
   "metadata": {},
   "outputs": [],
   "source": []
  },
  {
   "cell_type": "code",
   "execution_count": null,
   "id": "satellite-valentine",
   "metadata": {},
   "outputs": [],
   "source": []
  }
 ],
 "metadata": {
  "kernelspec": {
   "display_name": "Python 3",
   "language": "python",
   "name": "python3"
  },
  "language_info": {
   "codemirror_mode": {
    "name": "ipython",
    "version": 3
   },
   "file_extension": ".py",
   "mimetype": "text/x-python",
   "name": "python",
   "nbconvert_exporter": "python",
   "pygments_lexer": "ipython3",
   "version": "3.8.7"
  }
 },
 "nbformat": 4,
 "nbformat_minor": 5
}
